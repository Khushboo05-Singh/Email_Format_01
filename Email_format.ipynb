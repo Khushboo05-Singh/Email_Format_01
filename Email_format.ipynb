{
 "cells": [
  {
   "cell_type": "code",
   "execution_count": 8,
   "id": "a5036df5",
   "metadata": {},
   "outputs": [
    {
     "name": "stdout",
     "output_type": "stream",
     "text": [
      "Email is Found\n",
      "khusi.singh@kk.com\n",
      "Mobile num found\n",
      "123-456-7890\n",
      "7984759847\n",
      "khushboo@singh.com\n",
      "Mobile num found\n",
      "123-456-7890\n",
      "7984759847\n",
      "kritika@singh.com\n",
      "Mobile num found\n",
      "123-456-7890\n",
      "7984759847\n"
     ]
    }
   ],
   "source": [
    "import re\n",
    "dataset=\"\"\"khushi: khusi.singh@kk.com, 123-456-7890\n",
    "khushboo: khushboo@singh.com, 874763843\n",
    "Kriti:  kritika@singh.com, 7984759847\"\"\"\n",
    "#regular expressions for matching email address and mob num\n",
    "email_pattern=r'\\b[A-Za-z0-9._%+@[A-Za-z0-9.-]+\\.[A-Z|a-z]{2,7}\\b'\n",
    "mobile_pattern=r'\\b\\d{3}[-.\\s]?\\d{3}[-.\\s]?\\d{4}\\b'\n",
    "#find and print email address amd mob num in the dataset\n",
    "emails=re.findall(email_pattern,dataset)\n",
    "mobiles=re.findall(mobile_pattern,dataset)\n",
    "if emails:\n",
    "    print(\"Email is Found\")\n",
    "    for email in emails:\n",
    "        print(email)\n",
    "        if mobiles:\n",
    "            print(\"Mobile num found\")\n",
    "            for mobile in mobiles:\n",
    "                print(mobile)\n",
    "        else:\n",
    "            print(\"Not found\")\n",
    "        "
   ]
  },
  {
   "cell_type": "code",
   "execution_count": null,
   "id": "f9ff1203",
   "metadata": {},
   "outputs": [],
   "source": []
  }
 ],
 "metadata": {
  "kernelspec": {
   "display_name": "Python 3 (ipykernel)",
   "language": "python",
   "name": "python3"
  },
  "language_info": {
   "codemirror_mode": {
    "name": "ipython",
    "version": 3
   },
   "file_extension": ".py",
   "mimetype": "text/x-python",
   "name": "python",
   "nbconvert_exporter": "python",
   "pygments_lexer": "ipython3",
   "version": "3.11.3"
  }
 },
 "nbformat": 4,
 "nbformat_minor": 5
}
